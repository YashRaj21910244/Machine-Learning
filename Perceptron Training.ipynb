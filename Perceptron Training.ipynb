{
 "cells": [
  {
   "cell_type": "code",
   "execution_count": 1,
   "metadata": {},
   "outputs": [
    {
     "name": "stdout",
     "output_type": "stream",
     "text": [
      "Libraries Imported\n"
     ]
    }
   ],
   "source": [
    "import numpy as np\n",
    "print(\"Libraries Imported\")"
   ]
  },
  {
   "cell_type": "code",
   "execution_count": 2,
   "metadata": {},
   "outputs": [],
   "source": [
    "X = [[0,0,0],\n",
    "     [0,0,1],\n",
    "     [0,1,0],\n",
    "     [0,1,1],\n",
    "     [1,0,0],\n",
    "     [1,0,1],\n",
    "     [1,1,0],\n",
    "     [1,1,1]]\n",
    "y_actual = [[0],[1],[0],[0],[1],[1],[0],[1]]\n",
    "X = np.array(X)\n",
    "y_actual = np.array(y_actual)"
   ]
  },
  {
   "cell_type": "code",
   "execution_count": 3,
   "metadata": {},
   "outputs": [
    {
     "data": {
      "text/plain": [
       "((8, 3), (8, 1))"
      ]
     },
     "execution_count": 3,
     "metadata": {},
     "output_type": "execute_result"
    }
   ],
   "source": [
    "X.shape, y_actual.shape"
   ]
  },
  {
   "cell_type": "code",
   "execution_count": 4,
   "metadata": {},
   "outputs": [],
   "source": [
    "def sigmoid(X):\n",
    "    return 1/(1+np.exp(-X)) #sigmoid activation function"
   ]
  },
  {
   "cell_type": "code",
   "execution_count": 5,
   "metadata": {},
   "outputs": [],
   "source": [
    "W = np.random.randn(3,1)\n",
    "err_list = []\n",
    "for i in range(20):\n",
    "    y_predict = sigmoid(np.dot(X,W))\n",
    "    error = y_predict - y_actual\n",
    "    dw = np.dot(X.T,error)\n",
    "    W = W-dw\n",
    "    err_list.append(np.sum(np.square(error)))"
   ]
  },
  {
   "cell_type": "code",
   "execution_count": 6,
   "metadata": {},
   "outputs": [
    {
     "data": {
      "text/plain": [
       "array([[ 3.48769331],\n",
       "       [-5.37029   ],\n",
       "       [ 3.48489491]])"
      ]
     },
     "execution_count": 6,
     "metadata": {},
     "output_type": "execute_result"
    }
   ],
   "source": [
    "W #parameters for the neuron"
   ]
  },
  {
   "cell_type": "code",
   "execution_count": 7,
   "metadata": {},
   "outputs": [
    {
     "data": {
      "text/plain": [
       "array([[0.5       ],\n",
       "       [0.96818793],\n",
       "       [0.00514137],\n",
       "       [0.13590793],\n",
       "       [0.96828897],\n",
       "       [0.99892509],\n",
       "       [0.13629426],\n",
       "       [0.82766446]])"
      ]
     },
     "execution_count": 7,
     "metadata": {},
     "output_type": "execute_result"
    }
   ],
   "source": [
    "y_predict"
   ]
  },
  {
   "cell_type": "code",
   "execution_count": 8,
   "metadata": {},
   "outputs": [
    {
     "data": {
      "text/plain": [
       "array([[0.],\n",
       "       [1.],\n",
       "       [0.],\n",
       "       [0.],\n",
       "       [1.],\n",
       "       [1.],\n",
       "       [0.],\n",
       "       [1.]])"
      ]
     },
     "execution_count": 8,
     "metadata": {},
     "output_type": "execute_result"
    }
   ],
   "source": [
    "np.round(y_predict) #rounded values of y_predict"
   ]
  },
  {
   "cell_type": "code",
   "execution_count": 9,
   "metadata": {},
   "outputs": [
    {
     "data": {
      "text/plain": [
       "[3.1857949521591005,\n",
       " 1.5509206138929799,\n",
       " 0.9432813234861319,\n",
       " 0.6948554471945342,\n",
       " 0.5887654211825977,\n",
       " 0.5224384962971651,\n",
       " 0.4799052984592046,\n",
       " 0.44856423905626625,\n",
       " 0.42442999905334633,\n",
       " 0.4051927747583407,\n",
       " 0.38947105148768,\n",
       " 0.37637201346069105,\n",
       " 0.3652861172069737,\n",
       " 0.35578231756904416,\n",
       " 0.3475461831829689,\n",
       " 0.34034245273736985,\n",
       " 0.33399128321656085,\n",
       " 0.32835264837619804,\n",
       " 0.3233157771992978,\n",
       " 0.3187918160661437]"
      ]
     },
     "execution_count": 9,
     "metadata": {},
     "output_type": "execute_result"
    }
   ],
   "source": [
    "err_list #error concurred after every loop"
   ]
  },
  {
   "cell_type": "markdown",
   "metadata": {},
   "source": [
    "End of code."
   ]
  },
  {
   "cell_type": "code",
   "execution_count": null,
   "metadata": {},
   "outputs": [],
   "source": []
  }
 ],
 "metadata": {
  "kernelspec": {
   "display_name": "Python 3",
   "language": "python",
   "name": "python3"
  },
  "language_info": {
   "codemirror_mode": {
    "name": "ipython",
    "version": 3
   },
   "file_extension": ".py",
   "mimetype": "text/x-python",
   "name": "python",
   "nbconvert_exporter": "python",
   "pygments_lexer": "ipython3",
   "version": "3.7.4"
  }
 },
 "nbformat": 4,
 "nbformat_minor": 2
}
